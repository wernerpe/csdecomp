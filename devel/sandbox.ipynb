{
 "cells": [
  {
   "cell_type": "code",
   "execution_count": 1,
   "metadata": {},
   "outputs": [
    {
     "name": "stderr",
     "output_type": "stream",
     "text": [
      "INFO:drake:Meshcat listening for connections at http://localhost:7000\n"
     ]
    }
   ],
   "source": [
    "from pydrake.all import (RobotDiagramBuilder, \n",
    "                         VisualizationConfig,\n",
    "                         RigidTransform,\n",
    "                         Rgba,\n",
    "                         StartMeshcat, \n",
    "                         ApplyVisualizationConfig)\n",
    "from cspace_utils.plotting import plot_triad\n",
    "import numpy as np\n",
    "import ipywidgets as widgets\n",
    "from functools import partial\n",
    "from utils import DEVEL_PATH\n",
    "meshcat = StartMeshcat()\n",
    "path = DEVEL_PATH +\"/movable_capsule.urdf\"\n",
    "rbuilder = RobotDiagramBuilder()\n",
    "plant= rbuilder.plant()\n",
    "builder = rbuilder.builder()\n",
    "parser = rbuilder.parser()\n",
    "scene_graph = rbuilder.scene_graph()\n",
    "parser.AddModels(path)\n",
    "config = VisualizationConfig()\n",
    "config.enable_alpha_sliders = False\n",
    "config.publish_contacts=False\n",
    "config.publish_inertia = False\n",
    "config.default_proximity_color = Rgba(0.8,0,0,0.5)\n",
    "#AddDefaultVisualization(builder.builder(), meshcat, enable_alpha_sliders=True)\n",
    "plant.Finalize()\n",
    "ApplyVisualizationConfig(config, builder, meshcat=meshcat)\n",
    "diagram = builder.Build()\n",
    "diagram_context = diagram.CreateDefaultContext()\n",
    "plant_context = plant.GetMyMutableContextFromRoot(diagram_context)\n",
    "diagram.ForcedPublish(diagram_context)"
   ]
  },
  {
   "cell_type": "code",
   "execution_count": 21,
   "metadata": {},
   "outputs": [
    {
     "data": {
      "application/vnd.jupyter.widget-view+json": {
       "model_id": "0cb2c7830a794fa1bb391f12233372ce",
       "version_major": 2,
       "version_minor": 0
      },
      "text/plain": [
       "FloatSlider(value=0.0, description='q0', max=0.693, min=-0.693, step=0.001)"
      ]
     },
     "metadata": {},
     "output_type": "display_data"
    },
    {
     "data": {
      "application/vnd.jupyter.widget-view+json": {
       "model_id": "8058a4c423d64bf290bd0cced65035ff",
       "version_major": 2,
       "version_minor": 0
      },
      "text/plain": [
       "FloatSlider(value=0.0, description='q1', max=0.693, min=-0.693, step=0.001)"
      ]
     },
     "metadata": {},
     "output_type": "display_data"
    },
    {
     "data": {
      "application/vnd.jupyter.widget-view+json": {
       "model_id": "27d09db16925404eacf4eb06bbf440e3",
       "version_major": 2,
       "version_minor": 0
      },
      "text/plain": [
       "FloatSlider(value=0.0, description='q2', max=0.693, min=-0.099, step=0.001)"
      ]
     },
     "metadata": {},
     "output_type": "display_data"
    },
    {
     "data": {
      "application/vnd.jupyter.widget-view+json": {
       "model_id": "b0a446ca659f4f55914d3f124cc8fddf",
       "version_major": 2,
       "version_minor": 0
      },
      "text/plain": [
       "FloatSlider(value=0.0, description='q3', max=3.1086, min=-3.1086, step=0.001)"
      ]
     },
     "metadata": {},
     "output_type": "display_data"
    },
    {
     "data": {
      "application/vnd.jupyter.widget-view+json": {
       "model_id": "92c52681d7a74257807aab4f51879719",
       "version_major": 2,
       "version_minor": 0
      },
      "text/plain": [
       "FloatSlider(value=0.0, description='q4', max=3.1086, min=-3.1086, step=0.001)"
      ]
     },
     "metadata": {},
     "output_type": "display_data"
    },
    {
     "data": {
      "application/vnd.jupyter.widget-view+json": {
       "model_id": "d2b0545fad3e4239ab7b35c52b6a148a",
       "version_major": 2,
       "version_minor": 0
      },
      "text/plain": [
       "FloatSlider(value=0.0, description='q5', max=3.1086, min=-3.1086, step=0.001)"
      ]
     },
     "metadata": {},
     "output_type": "display_data"
    },
    {
     "name": "stdout",
     "output_type": "stream",
     "text": [
      "col\n",
      "col\n",
      "col\n",
      "col\n",
      "col\n",
      "col\n",
      "col\n",
      "col\n",
      "col\n",
      "col\n",
      "col\n",
      "col\n",
      "col\n",
      "col\n",
      "col\n",
      "col\n",
      "col\n",
      "col\n",
      "col\n",
      "col\n",
      "col\n",
      "col\n",
      "col\n",
      "col\n",
      "col\n",
      "col\n",
      "col\n",
      "col\n",
      "col\n",
      "col\n",
      "col\n",
      "col\n",
      "col\n",
      "col\n",
      "col\n",
      "col\n",
      "col\n",
      "col\n",
      "col\n",
      "col\n",
      "col\n",
      "col\n",
      "col\n",
      "col\n",
      "col\n",
      "col\n",
      "col\n",
      "col\n",
      "col\n",
      "col\n"
     ]
    }
   ],
   "source": [
    "q = np.zeros(plant.num_positions()) \n",
    "sliders = []\n",
    "for i in range(plant.num_positions()):\n",
    "    q_low = plant.GetPositionLowerLimits()[i]*0.99\n",
    "    q_high = plant.GetPositionUpperLimits()[i]*0.99\n",
    "    sliders.append(widgets.FloatSlider(min=q_low, max=q_high, value=0, step=0.001, description=f\"q{i}\"))\n",
    "\n",
    "def handle_slider_change(change, idx):\n",
    "\n",
    "    q[idx] = change['new']\n",
    "    plant.SetPositions(plant_context, q)\n",
    "    query = plant.get_geometry_query_input_port().Eval(plant_context)\n",
    "    if query.HasCollisions():\n",
    "        print(\"col\")\n",
    "    # for i, rt in enumerate(rts_):\n",
    "    #     plot_triad(rt, meshcat, f\"full/link_frame_{i}\")\n",
    "    # for i in range(mkt.num_links):\n",
    "    #     rt = RigidTransform(transforms_minimal[4*i:4*(i+1),:])\n",
    "    #     plot_triad(rt, meshcat, f\"minimal/link_frame_{i}\")\n",
    "    diagram.ForcedPublish(diagram_context)\n",
    "\n",
    "idx = 0\n",
    "for slider in sliders:\n",
    "    slider.observe(partial(handle_slider_change, idx = idx), names='value')\n",
    "    idx+=1\n",
    "\n",
    "for slider in sliders:\n",
    "    display(slider)"
   ]
  },
  {
   "cell_type": "code",
   "execution_count": 22,
   "metadata": {},
   "outputs": [],
   "source": [
    "def print_conf(q):\n",
    "    print(f\"np.array([{q[0]:.1f}, {q[1]:.1f}, {q[2]:.1f}, {q[3]:.1f}, {q[4]:.1f}, {q[5]:.1f}])\")"
   ]
  },
  {
   "cell_type": "code",
   "execution_count": 23,
   "metadata": {},
   "outputs": [
    {
     "name": "stdout",
     "output_type": "stream",
     "text": [
      "np.array([0.1, 0.0, 0.4, -0.3, 0.1, -1.1])\n"
     ]
    }
   ],
   "source": [
    "print_conf(q)"
   ]
  },
  {
   "cell_type": "code",
   "execution_count": 9,
   "metadata": {},
   "outputs": [],
   "source": [
    "col_free = [\n",
    "    np.array([0.2, 0.1, -0.0, 0.5, -0.3, 0.5]),\n",
    "    np.array([0.2, 0.1, -0.0, 0.5, 1.9, 0.5]),\n",
    "    np.array([-0.2, -0.0, -0.0, 0.5, 1.9, 0.5]),\n",
    "    np.array([-0.2, -0.0, -0.0, 0.5, 3.1, 0.5])\n",
    "]\n",
    "\n",
    "col = [\n",
    "    np.array([-0.5, -0.0, 0.1, 0.0, 0.7, 0.5]),\n",
    "    np.array([0.5, -0.1, 0.1, 0.0, 0.7, -0.8]),\n",
    "    np.array([0.5, 0.5, 0.2, 0.0, 0.7, -0.8]),\n",
    "    np.array([0.1, 0.0, 0.4, -0.3, 0.1, -1.1])\n",
    "]"
   ]
  }
 ],
 "metadata": {
  "kernelspec": {
   "display_name": ".venv",
   "language": "python",
   "name": "python3"
  },
  "language_info": {
   "codemirror_mode": {
    "name": "ipython",
    "version": 3
   },
   "file_extension": ".py",
   "mimetype": "text/x-python",
   "name": "python",
   "nbconvert_exporter": "python",
   "pygments_lexer": "ipython3",
   "version": "3.10.12"
  }
 },
 "nbformat": 4,
 "nbformat_minor": 2
}
