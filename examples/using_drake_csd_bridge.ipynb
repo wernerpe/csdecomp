{
 "cells": [
  {
   "cell_type": "markdown",
   "metadata": {},
   "source": [
    "# Using the Drake CSD Bridge\n",
    "\n",
    "CSDecomp provides some limited support for directly converting drake plants into a csd plant. Currently only revolute, prismatic and fixed joints along with sphere and box collision geometries are supported.\n",
    "\n",
    "First, let us construct a drake plant!"
   ]
  },
  {
   "cell_type": "code",
   "execution_count": 1,
   "metadata": {},
   "outputs": [],
   "source": [
    "from pydrake.all import (RobotDiagramBuilder, \n",
    "                         StartMeshcat, \n",
    "                         LoadModelDirectives,\n",
    "                         ProcessModelDirectives,\n",
    "                         ApplyVisualizationConfig,\n",
    "                         VisualizationConfig,\n",
    "                         Rgba,\n",
    "                         SceneGraphCollisionChecker,\n",
    "                         SceneGraphInspector,\n",
    "                         QueryObject)\n",
    "\n",
    "from pycsdecomp import (convert_drake_plant_to_csd_plant,\n",
    "                        HPolyhedron,\n",
    "                        UniformSampleInHPolyhedraCuda,\n",
    "                        CheckCollisionFreeCuda)\n",
    "import time"
   ]
  },
  {
   "cell_type": "code",
   "execution_count": null,
   "metadata": {},
   "outputs": [],
   "source": [
    "directives_path = '../csdecomp/tests/test_assets/directives/kinova_sens_on_table.yml'\n",
    "meshcat = StartMeshcat()\n",
    "rbuilder = RobotDiagramBuilder()\n",
    "plant= rbuilder.plant()\n",
    "builder = rbuilder.builder()\n",
    "parser = rbuilder.parser()\n",
    "parser.package_map().Add(\"test_assets\", \"../csdecomp/tests/test_assets\")\n",
    "parser.package_map().Add(\"kortex_description\", \"../csdecomp/tests/test_assets/kinova/kortex_description\")\n",
    "parser.package_map().Add(\"robotiq_arg85_description\", \"../csdecomp/tests/test_assets/robotiq\")\n",
    "\n",
    "directives = LoadModelDirectives(directives_path)\n",
    "models = ProcessModelDirectives(directives, plant, parser)\n",
    "scene_graph = rbuilder.scene_graph()\n",
    "config = VisualizationConfig()\n",
    "config.enable_alpha_sliders = False\n",
    "config.publish_contacts = False\n",
    "config.publish_inertia = False\n",
    "config.default_proximity_color = Rgba(0.8,0,0,0.5)\n",
    "plant.Finalize()\n",
    "ApplyVisualizationConfig(config, builder, meshcat=meshcat)\n",
    "diagram = rbuilder.Build()\n",
    "diagram_context = diagram.CreateDefaultContext()\n",
    "diagram.ForcedPublish(diagram_context)\n",
    "kin_idx = plant.GetModelInstanceByName(\"kinova\")\n",
    "rob_idx = plant.GetModelInstanceByName(\"robotiq\")\n",
    "checker = SceneGraphCollisionChecker(model = diagram,\n",
    "                           robot_model_instances = [kin_idx, rob_idx],\n",
    "                           edge_step_size = 0.1)\n",
    "scene_graph_context = scene_graph.GetMyContextFromRoot(diagram_context)\n",
    "plant_context = plant.GetMyContextFromRoot(diagram_context)\n",
    "query : QueryObject = scene_graph.get_query_output_port().Eval(scene_graph_context)\n",
    "inspector : SceneGraphInspector = query.inspector()\n",
    "meshcat.SetProperty('/drake/proximity', 'visible', True)"
   ]
  },
  {
   "cell_type": "markdown",
   "metadata": {},
   "source": [
    "Now, let's convert it!"
   ]
  },
  {
   "cell_type": "code",
   "execution_count": 3,
   "metadata": {},
   "outputs": [],
   "source": [
    "csd_plant = convert_drake_plant_to_csd_plant(plant,\n",
    "                                             plant_context,\n",
    "                                             inspector)"
   ]
  },
  {
   "cell_type": "markdown",
   "metadata": {},
   "source": [
    "Now, let's check that collision checking is working!"
   ]
  },
  {
   "cell_type": "code",
   "execution_count": null,
   "metadata": {},
   "outputs": [],
   "source": [
    "n_samples = 1000000\n",
    "domain = HPolyhedron()\n",
    "domain.MakeBox(csd_plant.getPositionLowerLimits(), csd_plant.getPositionUpperLimits())\n",
    "samples = UniformSampleInHPolyhedraCuda(polyhedra=[domain], \n",
    "                                        starting_points=domain.ChebyshevCenter(), \n",
    "                                        num_samples_per_hpolyhedron=n_samples, \n",
    "                                        mixing_steps=100,\n",
    "                                        )[0]\n",
    "res_csd = CheckCollisionFreeCuda(samples, csd_plant.getMinimalPlant())\n",
    "res_drake = checker.CheckConfigsCollisionFree(samples.T, parallelize=True)\n",
    "\n",
    "number_differing_results = 0\n",
    "critical_configs = []\n",
    "for idx, (rcsd, rdr) in enumerate(zip(res_csd, res_drake)):\n",
    "    if rcsd!=rdr:\n",
    "        number_differing_results +=1\n",
    "        critical_configs.append(samples[:, idx])\n"
   ]
  },
  {
   "cell_type": "code",
   "execution_count": null,
   "metadata": {},
   "outputs": [],
   "source": [
    "print(f\"Number of differing results found in {n_samples} configurations: {number_differing_results}\")\n",
    "\n",
    "for idx in range(10):\n",
    "    plant.SetPositions(plant_context, samples[:, idx])\n",
    "    diagram.ForcedPublish(diagram_context)\n",
    "    print(f\"Collision-free {res_csd[idx]}\")\n",
    "    time.sleep(2)"
   ]
  },
  {
   "cell_type": "code",
   "execution_count": null,
   "metadata": {},
   "outputs": [],
   "source": []
  }
 ],
 "metadata": {
  "kernelspec": {
   "display_name": ".venv",
   "language": "python",
   "name": "python3"
  },
  "language_info": {
   "codemirror_mode": {
    "name": "ipython",
    "version": 3
   },
   "file_extension": ".py",
   "mimetype": "text/x-python",
   "name": "python",
   "nbconvert_exporter": "python",
   "pygments_lexer": "ipython3",
   "version": "3.10.12"
  }
 },
 "nbformat": 4,
 "nbformat_minor": 2
}
