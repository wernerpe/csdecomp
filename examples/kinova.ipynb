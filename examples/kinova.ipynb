{
 "cells": [
  {
   "cell_type": "markdown",
   "metadata": {},
   "source": [
    "# Example of using EI-ZO for a Kinova Gen 3\n",
    "\n",
    "In this example we walk through how to set up a plant with model directives and run EI-ZO.\n",
    "\n",
    "First, we will build a drake plant, and manually recreate it in CSD using the integrated parser.\n",
    "\n",
    "To get started, make sure to select the python kernel corresponding to your .venv. E.g. when running this notebook in vscode from the example directory, and using the poetry setup described in the README, go to the top right to 'Select Kernel' and select '.venv(Python 3.10.xx)'."
   ]
  },
  {
   "cell_type": "code",
   "execution_count": 1,
   "metadata": {},
   "outputs": [
    {
     "name": "stderr",
     "output_type": "stream",
     "text": [
      "INFO:drake:Meshcat listening for connections at http://localhost:7000\n",
      "INFO:drake:Allocating contexts to support implicit context parallelism 20\n"
     ]
    },
    {
     "name": "stdout",
     "output_type": "stream",
     "text": [
      "Successfully registered package 'test_assets' with path: ../csdecomp/tests/test_assets/\n"
     ]
    }
   ],
   "source": [
    "from pydrake.all import (RobotDiagramBuilder, \n",
    "                         VisualizationConfig,\n",
    "                         RigidTransform,\n",
    "                         Rgba,\n",
    "                         StartMeshcat, \n",
    "                         ApplyVisualizationConfig,\n",
    "                         ProximityProperties,\n",
    "                         ModelInstanceIndex,\n",
    "                         AddContactMaterial,\n",
    "                         CoulombFriction,\n",
    "                         Sphere,\n",
    "                         LoadModelDirectives,\n",
    "                         ProcessModelDirectives,\n",
    "                         HPolyhedron,\n",
    "                         SceneGraphCollisionChecker)\n",
    "from pycsdecomp import (URDFParser, \n",
    "                        EizoOptions,\n",
    "                        CudaEdgeInflator,\n",
    "                        CheckCollisionFreeCuda,\n",
    "                        UniformSampleInHPolyhedraCuda,\n",
    "                        Voxels,\n",
    "                        CheckCollisionFreeVoxelsCuda)\n",
    "import matplotlib.pyplot as plt\n",
    "from pycsdecomp import HPolyhedron as csdHPoly\n",
    "from cspace_utils.plotting import plot_triad, plot_hpoly_matplotlib\n",
    "import numpy as np\n",
    "import ipywidgets as widgets\n",
    "from functools import partial\n",
    "directives_path = '../csdecomp/tests/test_assets/directives/kinova_sens_on_table.yml'\n",
    "meshcat = StartMeshcat()\n",
    "rbuilder = RobotDiagramBuilder()\n",
    "plant= rbuilder.plant()\n",
    "builder = rbuilder.builder()\n",
    "parser = rbuilder.parser()\n",
    "parser.package_map().Add(\"test_assets\", \"../csdecomp/tests/test_assets\")\n",
    "parser.package_map().Add(\"kortex_description\", \"../csdecomp/tests/test_assets/kinova/kortex_description\")\n",
    "parser.package_map().Add(\"robotiq_arg85_description\", \"../csdecomp/tests/test_assets/robotiq\")\n",
    "\n",
    "directives = LoadModelDirectives(directives_path)\n",
    "models = ProcessModelDirectives(directives, plant, parser)\n",
    "\n",
    "#add 3 voxels\n",
    "proximity_properties = ProximityProperties()\n",
    "AddContactMaterial(dissipation=0.1,\n",
    "                            point_stiffness=250.0,\n",
    "                            friction=CoulombFriction(0.9, 0.5),\n",
    "                            properties=proximity_properties)\n",
    "\n",
    "vox_loc = np.array([[0.3, 0, 0.5],\n",
    "                    [0.3, 0.4, 0.5],\n",
    "                    [0.3, 0.4, 0.6],\n",
    "                    [0.3, -0.4, 0.5]])\n",
    "vox_loc = vox_loc.transpose()\n",
    "vox_radius = 0.02\n",
    "for i, c in enumerate(vox_loc.T):\n",
    "    sph_body = plant.AddRigidBody(f\"sphere_{i}\", model_instance=ModelInstanceIndex(1))\n",
    "    c3d = c\n",
    "    plant.WeldFrames(plant.world_frame(), sph_body.body_frame(), RigidTransform(c3d))\n",
    "    plant.RegisterCollisionGeometry(sph_body,\n",
    "                                        RigidTransform(), Sphere(vox_radius),\n",
    "                                        f\"sphere_{i}\",\n",
    "                                        proximity_properties\n",
    "                                        )\n",
    "    plant.RegisterVisualGeometry(sph_body, RigidTransform(),Sphere(vox_radius),f\"sphere_{i}\", np.array([0,0,0,1]))\n",
    "    \n",
    "scene_graph = rbuilder.scene_graph()\n",
    "config = VisualizationConfig()\n",
    "config.enable_alpha_sliders = False\n",
    "config.publish_contacts=False\n",
    "config.publish_inertia = False\n",
    "config.default_proximity_color = Rgba(0.8,0,0,0.5)\n",
    "#AddDefaultVisualization(builder.builder(), meshcat, enable_alpha_sliders=True)\n",
    "wrld = plant.GetBodyByName(\"world\")\n",
    "proximity_properties = ProximityProperties()\n",
    "plant.Finalize()\n",
    "ApplyVisualizationConfig(config, builder, meshcat=meshcat)\n",
    "diagram = rbuilder.Build()\n",
    "kin_idx = plant.GetModelInstanceByName(\"kinova\")\n",
    "rob_idx = plant.GetModelInstanceByName(\"robotiq\")\n",
    "checker = SceneGraphCollisionChecker(model = diagram,\n",
    "                           robot_model_instances = [kin_idx, rob_idx],\n",
    "                           edge_step_size = 0.1\n",
    "                           )\n",
    "\n",
    "diagram_context = diagram.CreateDefaultContext()\n",
    "plant_context = plant.GetMyMutableContextFromRoot(diagram_context)\n",
    "diagram.ForcedPublish(diagram_context)\n",
    "\n",
    "csdecomp_parser = URDFParser()\n",
    "csdecomp_parser.register_package(\"test_assets\", \"../csdecomp/tests/test_assets/\")\n",
    "csdecomp_parser.parse_directives(\"../csdecomp/tests/test_assets/directives/kinova_sens_on_table.yml\")\n",
    "kt = csdecomp_parser.get_kinematic_tree()\n",
    "mkt= csdecomp_parser.get_minimal_kinematic_tree()\n",
    "mp = csdecomp_parser.get_minimal_plant()\n",
    "meshcat.SetProperty('/drake/proximity', 'visible', True)\n",
    "\n",
    "insp = csdecomp_parser.get_scene_inspector()\n",
    "csdecomp_robgeomid = insp.robot_geometry_ids\n",
    "csdecomp_vox = Voxels(vox_loc)\n",
    "\n",
    "csdecomp_domain = csdHPoly()\n",
    "csdecomp_domain.MakeBox(kt.get_position_lower_limits(), kt.get_position_upper_limits())\n",
    "options = EizoOptions()\n",
    "options.num_particles = 10000\n",
    "options.bisection_steps = 9\n",
    "options.configuration_margin = 0.1\n",
    "options.delta = 0.01\n",
    "options.epsilon = 0.01\n",
    "options.tau = 0.5\n",
    "options.mixing_steps = 100\n",
    "options.max_hyperplanes_per_iteration = 10\n",
    "edge_inflator = CudaEdgeInflator(mp, insp.robot_geometry_ids, options, csdecomp_domain)"
   ]
  },
  {
   "cell_type": "code",
   "execution_count": 2,
   "metadata": {},
   "outputs": [
    {
     "data": {
      "application/vnd.jupyter.widget-view+json": {
       "model_id": "d00f20e56bfc48408d07070957d15d65",
       "version_major": 2,
       "version_minor": 0
      },
      "text/plain": [
       "FloatSlider(value=0.0, description='q0', max=3.069, min=-3.069, step=0.001)"
      ]
     },
     "metadata": {},
     "output_type": "display_data"
    },
    {
     "data": {
      "application/vnd.jupyter.widget-view+json": {
       "model_id": "67129bf627434509a76c14206430cbc1",
       "version_major": 2,
       "version_minor": 0
      },
      "text/plain": [
       "FloatSlider(value=0.0, description='q1', max=2.2176, min=-2.2176, step=0.001)"
      ]
     },
     "metadata": {},
     "output_type": "display_data"
    },
    {
     "data": {
      "application/vnd.jupyter.widget-view+json": {
       "model_id": "e2446e4efb1547b2a701b0d8554db76e",
       "version_major": 2,
       "version_minor": 0
      },
      "text/plain": [
       "FloatSlider(value=0.0, description='q2', max=3.069, min=-3.069, step=0.001)"
      ]
     },
     "metadata": {},
     "output_type": "display_data"
    },
    {
     "data": {
      "application/vnd.jupyter.widget-view+json": {
       "model_id": "3e28caddef74416c8c2f159ef5e566ed",
       "version_major": 2,
       "version_minor": 0
      },
      "text/plain": [
       "FloatSlider(value=0.0, description='q3', max=2.5443, min=-2.5443, step=0.001)"
      ]
     },
     "metadata": {},
     "output_type": "display_data"
    },
    {
     "data": {
      "application/vnd.jupyter.widget-view+json": {
       "model_id": "3933da65716c4ef2bdc2adb70fe90c14",
       "version_major": 2,
       "version_minor": 0
      },
      "text/plain": [
       "FloatSlider(value=0.0, description='q4', max=3.069, min=-3.069, step=0.001)"
      ]
     },
     "metadata": {},
     "output_type": "display_data"
    },
    {
     "data": {
      "application/vnd.jupyter.widget-view+json": {
       "model_id": "b70224b338e74275a002899eeee48ebc",
       "version_major": 2,
       "version_minor": 0
      },
      "text/plain": [
       "FloatSlider(value=0.0, description='q5', max=2.0690999999999997, min=-2.0690999999999997, step=0.001)"
      ]
     },
     "metadata": {},
     "output_type": "display_data"
    },
    {
     "data": {
      "application/vnd.jupyter.widget-view+json": {
       "model_id": "0e2908fcd8a94b5d8bce5041ced2f4a4",
       "version_major": 2,
       "version_minor": 0
      },
      "text/plain": [
       "FloatSlider(value=0.0, description='q6', max=3.069, min=-3.069, step=0.001)"
      ]
     },
     "metadata": {},
     "output_type": "display_data"
    }
   ],
   "source": [
    "q = np.zeros(plant.num_positions()) \n",
    "sliders = []\n",
    "for i in range(plant.num_positions()):\n",
    "    q_low = plant.GetPositionLowerLimits()[i]*0.99\n",
    "    q_high = plant.GetPositionUpperLimits()[i]*0.99\n",
    "    sliders.append(widgets.FloatSlider(min=q_low, max=q_high, value=0, step=0.001, description=f\"q{i}\"))\n",
    "\n",
    "def handle_slider_change(change, idx):\n",
    "\n",
    "    q[idx] = change['new']\n",
    "    plant.SetPositions(plant_context, q)\n",
    "    query = plant.get_geometry_query_input_port().Eval(plant_context)\n",
    "    \n",
    "    if query.HasCollisions():\n",
    "        print('in collision!')\n",
    "        csd_col = not CheckCollisionFreeVoxelsCuda(q, csdecomp_vox, vox_radius, mp, csdecomp_robgeomid)[0]\n",
    "        print(f\"[CSD] Has collision? {csd_col}\")\n",
    "    col_free_csdecomp = CheckCollisionFreeVoxelsCuda(q, csdecomp_vox, vox_radius, mp, csdecomp_robgeomid)[0]\n",
    "    col_free_drake = not query.HasCollisions()\n",
    "    if col_free_csdecomp != col_free_drake:\n",
    "        raise ValueError(\"Careful there is a mismatch between drakes collision checker, and CSD's. \\\n",
    "                         This can happen in rare instances becasue drake adds some padding.\")\n",
    "    # uncomment to visualize frames\n",
    "\n",
    "    # transforms = kt.compute_link_frame_to_world_transforms(q)\n",
    "    # transforms_minimal = computeLinkFrameToWorldTransformsMinimal(q, mkt)\n",
    "    # rts_ = [RigidTransform(r) for r in transforms]\n",
    "    # for i, rt in enumerate(rts_):\n",
    "    #     plot_triad(rt, meshcat, f\"full/link_frame_{i}\")\n",
    "    diagram.ForcedPublish(diagram_context)    \n",
    "idx = 0\n",
    "for slider in sliders:\n",
    "    slider.observe(partial(handle_slider_change, idx = idx), names='value')\n",
    "    idx+=1\n",
    "\n",
    "for slider in sliders:\n",
    "    display(slider)"
   ]
  },
  {
   "cell_type": "markdown",
   "metadata": {},
   "source": [
    "# Using EI-ZO"
   ]
  },
  {
   "cell_type": "code",
   "execution_count": 3,
   "metadata": {},
   "outputs": [
    {
     "name": "stdout",
     "output_type": "stream",
     "text": [
      "======================== Set builder ===========================\n",
      "EI-ZO Summary:\n",
      "=============================\n",
      "Total iterations: 4\n",
      "\n",
      "Iter.   Samples   Col. (UT)   Thresh.   Col. (OPT)  Faces   Time (ms)   \n",
      "------------------------------------------------------------------------\n",
      "0       10000     1776        20        4321        10      4.00        \n",
      "1       10000     2365        25        4650        10      4.00        \n",
      "2       10000     1204        29        2092        4       4.00        \n",
      "3       10000     0           31        0           0       3.00        \n",
      "------------------------------------------------------------------------\n",
      "Totals:\n",
      "  Samples drawn: 40000\n",
      "  Collisions (UT): 5345\n",
      "  Collisions (OPT): 11063\n",
      "  Faces placed: 24\n",
      "  Total time: 15.00 ms\n",
      "===================== End Set builder ===========================\n"
     ]
    }
   ],
   "source": [
    "l_start = np.array([-0.376 ,  0.3714,  0.,  0.,  0.,  0.,  0.])\n",
    "l_end = np.array([-0.376 ,  1.2024,  0.,  0. ,  0. ,  0. ,  0. ])\n",
    "#burn in run\n",
    "region = edge_inflator.inflateEdge(l_start, l_end, csdecomp_vox, vox_radius, False)\n",
    "#print out timing info\n",
    "region = edge_inflator.inflateEdge(l_start, l_end, csdecomp_vox, vox_radius, True)"
   ]
  },
  {
   "cell_type": "markdown",
   "metadata": {},
   "source": [
    "# Visualizing a tangent slice of the generated convex set"
   ]
  },
  {
   "cell_type": "code",
   "execution_count": 4,
   "metadata": {},
   "outputs": [
    {
     "data": {
      "text/plain": [
       "<matplotlib.legend.Legend at 0x75e4da341bd0>"
      ]
     },
     "execution_count": 4,
     "metadata": {},
     "output_type": "execute_result"
    },
    {
     "name": "stdout",
     "output_type": "stream",
     "text": [
      "Set parameter Username\n",
      "Academic license - for non-commercial use only - expires 2026-04-08\n"
     ]
    },
    {
     "data": {
      "image/png": "[encoded data removed]",
      "text/plain": [
       "<Figure size 500x500 with 1 Axes>"
      ]
     },
     "metadata": {},
     "output_type": "display_data"
    }
   ],
   "source": [
    "regions_to_plot = [HPolyhedron(r.A(), r.b()) for r in [region]]\n",
    "fig,ax = plt.subplots(figsize = (5,5))\n",
    "\n",
    "#setting the arm to the position visualized in the slice\n",
    "plant.SetPositions(plant_context, l_start)\n",
    "diagram.ForcedPublish(diagram_context)\n",
    "\n",
    "tvals = []\n",
    "for x in np.linspace(-np.pi, np.pi, 250):\n",
    "    for y in np.linspace(-np.pi, np.pi, 250):\n",
    "        tvals.append(np.array([x,y]))\n",
    "tvals = np.array(tvals)\n",
    "\n",
    "perp_dir = (np.random.rand(7)-0.5)  # Initialize this with your initial perp_dir value\n",
    "dir = l_end-l_start\n",
    "dir /= np.linalg.norm(dir)\n",
    "rand_e_comp = (dir @ perp_dir) * dir\n",
    "rand_normal = perp_dir - rand_e_comp\n",
    "rand_normal /= np.linalg.norm(rand_normal)\n",
    "projector = np.array([dir, rand_normal])\n",
    "proj_line = (projector @ (l_end - l_start)).T\n",
    "points = (projector.T @ tvals.T).T + l_start.reshape(1, 7)\n",
    "\n",
    "col_free = CheckCollisionFreeVoxelsCuda(points.T, \n",
    "                                        csdecomp_vox, vox_radius, \n",
    "                                        mp, \n",
    "                                        csdecomp_robgeomid)\n",
    "\n",
    "col_idx = np.where(1 - 1.0 * np.array(col_free))[0]\n",
    "ax.scatter(tvals[col_idx][:, 0], tvals[col_idx][:, 1], c='maroon', s=10, zorder =0, label ='voxel collisions')\n",
    "col_free = CheckCollisionFreeCuda(points.T, \n",
    "                                        mp)\n",
    "\n",
    "col_idx = np.where(1 - 1.0 * np.array(col_free))[0]\n",
    "ax.scatter(tvals[col_idx][:, 0], tvals[col_idx][:, 1], c='k', s=10, zorder = 1, label = \"self-collisions\")\n",
    "ax.scatter(0, 0, s=200, c='g')\n",
    "ax.set_xlim([-np.pi, np.pi])\n",
    "ax.set_ylim([-np.pi, np.pi])\n",
    "ax.plot([0,proj_line[0]], \n",
    "        [0, proj_line[1]], \n",
    "        linewidth =3, \n",
    "        color = 'k', \n",
    "        label ='projected line segment')\n",
    "ax.xaxis.set_tick_params(bottom=False, top=False, labelbottom=False)\n",
    "ax.yaxis.set_tick_params(left=False, right=False, labelleft=False)\n",
    "for i, r in enumerate(regions_to_plot):\n",
    "    A_aux = r.A() @ projector.T\n",
    "    b_aux = -r.A() @ l_start + r.b()\n",
    "    reg_slice = HPolyhedron(A_aux, b_aux)\n",
    "    if not reg_slice.IsEmpty():\n",
    "        plot_hpoly_matplotlib(ax, reg_slice, color='g', zorder=i * 2+5)\n",
    "ax.legend(loc='upper right')"
   ]
  },
  {
   "cell_type": "code",
   "execution_count": null,
   "metadata": {},
   "outputs": [],
   "source": []
  }
 ],
 "metadata": {
  "kernelspec": {
   "display_name": ".venv",
   "language": "python",
   "name": "python3"
  },
  "language_info": {
   "codemirror_mode": {
    "name": "ipython",
    "version": 3
   },
   "file_extension": ".py",
   "mimetype": "text/x-python",
   "name": "python",
   "nbconvert_exporter": "python",
   "pygments_lexer": "ipython3",
   "version": "3.10.12"
  }
 },
 "nbformat": 4,
 "nbformat_minor": 2
}
